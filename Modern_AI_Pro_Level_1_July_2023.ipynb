{
  "nbformat": 4,
  "nbformat_minor": 0,
  "metadata": {
    "colab": {
      "provenance": [],
      "include_colab_link": true
    },
    "kernelspec": {
      "name": "python3",
      "display_name": "Python 3"
    },
    "language_info": {
      "name": "python"
    }
  },
  "cells": [
    {
      "cell_type": "markdown",
      "metadata": {
        "id": "view-in-github",
        "colab_type": "text"
      },
      "source": [
        "<a href=\"https://colab.research.google.com/github/plaban1981/Mitra_AI/blob/main/Modern_AI_Pro_Level_1_July_2023.ipynb\" target=\"_parent\"><img src=\"https://colab.research.google.com/assets/colab-badge.svg\" alt=\"Open In Colab\"/></a>"
      ]
    },
    {
      "cell_type": "markdown",
      "source": [
        "# Welcome to the course: Modern AI Pro\n",
        "We welcome you for this amazing journery. There is a lot of cool things we would do from here.\n",
        "\n",
        "## Background reading:\n",
        "Intro session [Main deck](https://docs.google.com/presentation/d/1hXcru7QqAy7SkvVoNnODCfvb5o9R0wtf4Eik1xGSZJc/edit) and [Arvind deck](https://docs.google.com/presentation/d/1CQZ2luZkWjV4mj6Vh5XeReusI3wRMP3DVAiOChMgbvY/edit#slide=id.p)\n",
        "\n",
        "Link to course Lecture slides: [Module 1](https://drive.google.com/file/d/1axsCb0rdgK-zggrFcFfHZQvjgvIEsm3V/view?usp=sharing) | [Module 2](https://drive.google.com/file/d/1_hhkH554l76mvtbufogX9QUk2ED7aAfp/view) | Module 3 | Module 4 | Module 5 | Module 6 | Module 7 | Module 8 | Module 9 | Module 10\n",
        "\n",
        "\n",
        "Open AI [cookbook](https://github.com/openai/openai-cookbook/blob/main/examples/How_to_format_inputs_to_ChatGPT_models.ipynb)\n",
        "\n",
        "## Pre-requisites\n",
        "1. Highly recommended: https://missing.csail.mit.edu/\n",
        "2. Install Python, Pip, Jupyterlab, VSCode locally\n",
        "3. Get familiar with [Google Colab](https://colab.research.google.com/notebooks/markdown_guide.ipynb)\n",
        "4. Sign up and get on to our [Discord forum](discord.com). We have a complete part built with it.\n",
        "5. Setup Colab, Amazon Sagemaker, AWS, OpenAI key"
      ],
      "metadata": {
        "id": "7urPEzroVbRS"
      }
    },
    {
      "cell_type": "markdown",
      "source": [],
      "metadata": {
        "id": "RrZhO2mMI-qs"
      }
    },
    {
      "cell_type": "markdown",
      "source": [
        "## Week-1: ML and Data Science"
      ],
      "metadata": {
        "id": "hDAOannfm8aQ"
      }
    },
    {
      "cell_type": "markdown",
      "source": [
        "### **Module 1**: Introduction to Machine Learning\n",
        "*Friday July 14 and Saturday July 15* (3 hours)\n",
        "\n",
        "**Regression (1.5 hours)**\n",
        "\n",
        "0. Team Intro **15 min**\n",
        "\n",
        "1. Intro to ML. Why we need them? We will start with Regression. **20 min**\n",
        "\n",
        "1. Generate a Fibonacci series with Machine Learning.\n",
        "[Creating a basic Fibonacci series with Linear Regression](https://colab.research.google.com/drive/1LVdIRRMgFyOypixhwpl_eCiF5xpfjN6O) **10min**\n",
        "\n",
        "2. Predicting house prices -- [simple Linear Regression with a few columns and rows.](https://colab.research.google.com/drive/1i5uwJoF87KxEzmqb7_8OKQti6x_W8svN?usp=sharing) **20 min** [Classwork](https://colab.research.google.com/drive/12gmx_FojKRHxLMCfYYx-cCuzVo3KgZtV#scrollTo=buE7fQP75mig)\n",
        "\n",
        "3. How Machine Learning works [Theory] **35 min**\n",
        "\n",
        "----\n",
        "**Machine Learning -- Part 2**\n",
        "\n",
        "[Day 2 Slides -- Balaji](https://docs.google.com/presentation/d/1YGQZhJKzhFR3jNkUoHz8AsVtZW3rZN9n2ONLClV1tfE/edit?usp=sharing) <br>\n",
        "[Days 1&2 Slides -- Arvind](https://drive.google.com/file/d/1axsCb0rdgK-zggrFcFfHZQvjgvIEsm3V/view?usp=sharing)\n",
        "1. Recap: Types of ML techniques -- Supervised, Unsupervised/Self-supervised, Reinforcement learning [Theory already covered] **5 min recap**\n",
        "\n",
        "2. We will look at data cleanup and normalisation with a problem of [predicting home prices with a large dataset](https://colab.research.google.com/drive/1CEgw080U0FarmFIwQLBtbusgmyBdYB5f#scrollTo=VXkVxmD5hixL) **20 min**\n",
        "\n",
        "4. [Hands on Linear Regression in 2 variables](https://colab.research.google.com/drive/12f1_gQSElk3hJvGy8wbwLFsVzZgsXQZU?usp=sharing) **+** [Linear Regression from scratch-optional NB](https://colab.research.google.com/drive/1HaZyo9E7Zu_aJDrHlRLPQu7sN0n-lK1i?usp=sharing)  **25 min**\n",
        "\n",
        "\n",
        "Reference Notebooks: <br>\n",
        "[Optimization and Learning rate.](https://colab.research.google.com/drive/1IIbCRnkoJ5-yQ7r4HE-duvmT0W54Yohg?usp=sharing#scrollTo=b4gyHQucehoC) |\n",
        "[Charting in Colab](https://colab.research.google.com/notebooks/charts.ipynb) |\n"
      ],
      "metadata": {
        "id": "es3fsj9Ga6DS"
      }
    },
    {
      "cell_type": "markdown",
      "source": [
        "### **Module 2**: Introduction to Data Engineering and Data Science\n",
        "*Saturday July 15 and Sunday July 16* [3 hours]\n",
        "\n",
        "[Day 3 slides -- Balaji](https://docs.google.com/presentation/d/1cNfMn01lQ47jvF4fkRZGSoqCHcQlGJAIP8kvGnjStLA/edit#slide=id.g2599d2ee8e1_0_60) <br>\n",
        "[Day 3 slides -- Arvind](https://drive.google.com/file/d/1_hhkH554l76mvtbufogX9QUk2ED7aAfp/view)\n",
        "\n",
        "0. Use Seaborn and Matplot lib to do build cool visualiations for a [Predicting an income class](https://colab.research.google.com/drive/1KdOjCip0w5DR3Kiw5IEB3gkJZlzpV4We) of a person problem. **25 min**\n",
        "\n",
        "1. Ethics in AI. [Theory] **10 min**\n",
        "\n",
        "2. Introduction to Kaggle and HuggingFace communities -- think like a data scientist **15 min**\n",
        "\n",
        "3. [Data Metrics hands-on](https://colab.research.google.com/drive/1htYe1l-RivkyQ04EXlt1H_jYDtnV5lGm?usp=sharing) <br> Reference Notebook: [ML Metrics and Performance](https://colab.research.google.com/drive/1hoFqN_gHkOYwVXZ2MBJVVslEuarKsd70) **25 min**\n",
        "\n",
        "4. [Logistic Regression using sklearn](https://colab.research.google.com/drive/1IfDhJf4-Up1Qa04gjnGrnpAeTqjAW0VI?usp=sharing) **20 min**\n",
        "\n",
        "5. Logistic regression Theory + [optional notebook](https://colab.research.google.com/drive/1p0TV204XD7_eICxeuilN6ZBWXX6elAq4?usp=sharing) **25 min**\n",
        "\n",
        "6. Gradient Descent Intuition [Theory] **15 min**\n",
        "\n",
        "7. [Pandas Deepdive](https://colab.research.google.com/drive/1IEi22MR7q7mzU6kNsccxEUw5RR59j4IV?usp=sharing) **30 min**\n",
        "\n",
        "8. [Numpy Deepdive](https://colab.research.google.com/drive/1lqYTQYqsQHoIQ97GTglXuQls7mODXVmQ?usp=sharing) **30 min**\n",
        "\n",
        "9. [Regularization: Underfitting vs Overfitting.](https://colab.research.google.com/drive/1WC6_vxyHAYUDAvU8RBTZjK6OQIoB757t?usp=sharing) **15 min**\n",
        "\n",
        "10. Training vs Test vs Validation splitting and be proficient in using ML. [Theory] **15 min**\n",
        "\n",
        "11. Optional: Let's get into theory behind\n",
        "[Decision trees and Random forests](https://colab.research.google.com/drive/1fyV33mDQ-kth_tf-JY2PN85jw9GChktg?usp=sharing) **20 min**\n",
        "\n",
        "12. Ensemble algorithms and their strengths -- Random forest can be a good starting point for many classification. [Theory] **15 min**\n",
        "\n",
        "\n",
        "**Homework**: [Visualization deepdive with Matplotlib and Seaborn](https://colab.research.google.com/drive/1HaCuMkMRrPySFdTaDyzOhqFPokEb_pjq?usp=sharing)\n"
      ],
      "metadata": {
        "id": "ahp1-JQQcCp5"
      }
    },
    {
      "cell_type": "markdown",
      "source": [
        "### Week 1 mini project: Titanic disaster\n",
        "**Project Overview**\n",
        "The objective of this project is to predict whether a passenger survived the Titanic disaster, based on a set of features such as age, sex, passenger class, etc. This is a binary classification problem, which is a key concept in machine learning.\n",
        "\n",
        "**Dataset**\n",
        "The dataset for this project is provided by [Kaggle](https://www.kaggle.com/competitions/titanic) and is split into two parts: a training set and a test set. The training set includes the passenger's outcome (survived or not) along with the features, while the test set only includes the features.\n",
        "\n",
        "**Skills You Will Learn and Practice**\n",
        "\n",
        "This project will give you hands-on experience with several important data science and machine learning skills:\n",
        "\n",
        "1. **Data Exploration and Visualization:** You'll use libraries like Matplotlib and Seaborn to explore the data and visualize the relationships between features.\n",
        "Data Preprocessing: The dataset includes missing values and categorical features, so you'll learn how to handle these common issues.\n",
        "2. **Binary Classification:** You'll learn about and apply algorithms like logistic regression, decision trees, and random forests.\n",
        "3. **Model Evaluation:** You'll learn how to evaluate your models using techniques like cross-validation and metrics like accuracy.\n",
        "\n",
        "**Submission**\n",
        "\n",
        "Once you've built your model, you can submit your predictions to Kaggle and see how your model performs on the unseen test data. This will give you a sense of how well your model generalizes to new data, which is a key aspect of machine learning.\n",
        "\n",
        "This project provides a good balance of challenge and accessibility for beginners, and it covers many of the fundamental concepts and techniques in machine learning. I believe it will be a valuable learning experience for all of you."
      ],
      "metadata": {
        "id": "IEm7Ll0cvmkI"
      }
    },
    {
      "cell_type": "markdown",
      "source": [
        "## Week-2: Deep Learning"
      ],
      "metadata": {
        "id": "fuBB-PkpSGgf"
      }
    },
    {
      "cell_type": "markdown",
      "source": [
        "### **Module 3**: Training Neural Networks - the art of modeling\n",
        "*Friday July 21* (2 hours)\n",
        "\n",
        "1. [Introduction to Neural Nets](https://colab.research.google.com/drive/1MBXM2tXyQLh9mmm1ooAY74F6IyRYtFlV#scrollTo=EY4oAj08ovz_)\n",
        "Begin Deep Learning with Tensorflow & Keras. **20 min**\n",
        "\n",
        "2. How Neural Nets work [Theory] **15 min**\n",
        "\n",
        "3. [Income class prediction with Neural Networks](https://colab.research.google.com/drive/1siq7IZTLHj9X9iGc0g0MELE_-XYAtne6?usp=sharing) **20 min**\n",
        "\n",
        "4. [Advanced Home prices prediction](https://colab.research.google.com/drive/1ZXhsahmkbItEJGeOCON9mLUh_aSwW47P?usp=sharing) **20 min**\n",
        "\n",
        "4. *Reference:* [Keras DNN recap with dropout example](https://colab.research.google.com/drive/1LaVWTLNxPt8LUltJ2SJlqYoAI7j9P1xr?usp=sharing) **15 min**\n",
        "\n",
        "5. [Numpy Vectors vs PyTorch Tensors - GPU Computing](https://colab.research.google.com/drive/12MnqjbGIYTheiyKU0TlnH1x6Ma1AIiAB?usp=sharing) <br> [Intro to Pytorch](https://colab.research.google.com/drive/1ydjKOg-Lh3mAVwkoxpxQkJnnIOGKfLoq?usp=sharing) -- understanding Tensor operations. **15 min**\n",
        "\n",
        "6. [Parameters tuning in Neural Nets](https://colab.research.google.com/drive/17VFi24Hx1-dLMhU9TbxtqgMIC6XMUysh) **15 min**\n",
        "\n",
        "\n"
      ],
      "metadata": {
        "id": "9YDQIH3Sa9ZI"
      }
    },
    {
      "cell_type": "markdown",
      "source": [
        "### **Module 4**: Computer Vision - How machines see\n",
        "*Saturday July 22* (3 hours)\n",
        "\n",
        "\n",
        "0. Recap of Neural Networks - Let's review the notebooks again. **45 min**\n",
        "\n",
        "1. [Intro to OpenCV](https://colab.research.google.com/drive/1msSktEgddwOBXAd_jbqgpJv1W-mJ_B31?usp=sharing) **15 min**\n",
        "\n",
        "2. [Intro to CNN with Keras](https://colab.research.google.com/drive/1H99BrhYqHrsPItTrNebarXEyO_lXz6J0?usp=sharing) **35 min**\n",
        "\n",
        "2. How do CNNs work [Theory] **30 min**\n",
        "\n",
        "3. [CNN for large image classification - dog breeds](https://colab.research.google.com/drive/1Cjg0u06RIPDDil3qLsoBjgzgv56n8N-S) **30 min**\n",
        "\n",
        "4. [CNN example with data augmentation](https://colab.research.google.com/drive/1R0EO2Z-FrKhPFLTo2_gvbjY60rRCxyMO?usp=sharing) **15 min**\n",
        "\n",
        "**Homework:** [Identifying land use from satellite imagery](https://drive.google.com/file/d/1treVnuHJYDqQxS74wuzucDzQILK8630r/view?usp=sharing) **10 min**\n",
        "\n",
        " **Optional Material** <br>\n",
        "5. [Image Classification and Captioning with CLIP](https://colab.research.google.com/drive/1xc58CXijfJKlwz19-4U6zyylrzFcoFy2?usp=sharing)\n",
        "\n",
        "6. [Video Classification with CLIP](https://colab.research.google.com/drive/19ZNYNdTmBIKVtwJfn9jfhN_xHjsKFGVT?usp=sharing)\n",
        "\n",
        "Homework: [Face detection with OpenCV](https://colab.research.google.com/drive/1kTeWymGYCNoYR_U47xZtVptYrFTncq8I#scrollTo=OIu_hz_tKeE-)"
      ],
      "metadata": {
        "id": "RpEIVoGKdi4w"
      }
    },
    {
      "cell_type": "markdown",
      "source": [
        "\n",
        "### **Module 5**: Natural language processing - learning to write and speak\n",
        "*Sunday July 23* (2 hours)\n",
        "1. NLP Theory: **20 min**\n",
        "\n",
        "2. Introduction to [Tokenizing and Vectorising](https://colab.research.google.com/drive/1kZ8JugGAHaTzIgouE0kfeIrcz3vDllEN?usp=sharing). **25 min**\n",
        "\n",
        "3. [Document analysis and summarizing with NLP](https://colab.research.google.com/drive/12noUArYYRfZ5PyM7J8MyhsPdPyS0WVh2?usp=sharing)\n",
        "\n",
        "4. Starting with text classification with [fake news classifier](https://colab.research.google.com/drive/1MwtlZdRtjOdRyVJkdFl69Vptbxi7rA8g). Deploying your ML app with Gradio **15 min**\n",
        "\n",
        "5. Business case study. What we did for a major insurance company with RASA. **15 min**\n",
        "\n",
        "[Homework: Speech Recognition](https://colab.research.google.com/drive/1RUMJIlysJiceEX62cB5BEqhDqgMv2yh-)\n",
        "\n",
        "HW: [Deeper document analysis and summarizing with NLP](https://colab.research.google.com/drive/1sqyI2UaUp03-vD1uAfIPx-y0KG2UMQC0?usp=sharing) **15 min**"
      ],
      "metadata": {
        "id": "SBpcGjRGdruX"
      }
    },
    {
      "cell_type": "markdown",
      "source": [
        "### Week 2 mini project: CIFAR-10\n",
        "I trust that you are all doing well and enjoyed working on the Titanic survival prediction project. As we move into the second week of our course, we will be diving into the fascinating world of Computer Vision, a field of Artificial Intelligence that trains computers to interpret and understand the visual world.\n",
        "\n",
        "**Project Overview**\n",
        "\n",
        "For this week, your project will be to build a Convolutional Neural Network (CNN) to classify images from the [CIFAR-10 dataset](https://www.kaggle.com/c/cifar-10/). The CIFAR-10 dataset consists of 60,000 32x32 color images in 10 classes, with 6,000 images per class. The classes include objects like cars, birds, cats, ships, etc. Your task is to build a CNN that can accurately classify these images.\n",
        "\n",
        "**Skills You Will Learn and Practice**\n",
        "\n",
        "This project will give you hands-on experience with several important concepts in computer vision and deep learning:\n",
        "\n",
        "1. **Image Preprocessing:** You'll learn how to preprocess images for machine learning, including resizing images, normalizing pixel values, and converting labels to one-hot vectors.\n",
        "2. **Convolutional Neural Networks (CNNs):** You'll learn about CNNs, which are a type of deep learning model that are especially good at processing images.\n",
        "3. **Training Deep Learning Models:** You'll learn how to train a CNN using techniques like stochastic gradient descent and backpropagation.\n",
        "4. **Model Evaluation:** You'll learn how to evaluate your model's performance, understand confusion matrices, and compute metrics like accuracy.\n",
        "\n",
        "**Submission**\n",
        "\n",
        "Once you've built and trained your model, you will test it on the CIFAR-10 test set to see how well it can classify new images. This will give you a sense of how well your model generalizes, which is a key aspect of machine learning.\n",
        "\n",
        "This project will be a bit more challenging than the last one, but I'm confident that you're all up to the task. As always, please don't hesitate to reach out if you have any questions or need any help."
      ],
      "metadata": {
        "id": "iU1T0tIJwi5I"
      }
    },
    {
      "cell_type": "markdown",
      "source": [
        "## Week-3: Generative AI\n"
      ],
      "metadata": {
        "id": "WDzdN1lBSIqA"
      }
    },
    {
      "cell_type": "markdown",
      "source": [
        "### **Module 6**: Intro to Large Language Models, LangChain and Vector DBs\n",
        "*Friday July 28 and Saturday July 29* (3 hours)\n",
        "<br>\n",
        "Open Source LLM Alternatives - [LLAMA 2](https://colab.research.google.com/drive/1UF4y5_o8FdzwZnNRlLrMuHCzHBDd7Uuo?usp=sharing)\n",
        "| [Orca](https://colab.research.google.com/drive/1w3ChJFTAEAP3_Y-Us69vV8pqxnLAEjVb?usp=sharing)\n",
        "\n",
        "0. < *Quick recap of course* > **15 min**\n",
        "\n",
        "1. Intro to Generative AI. Everything changes now. [Theory] **20 min**\n",
        "\n",
        "2. Introduction to Transformer based Language Models **10 min**\n",
        "\n",
        "3. [Intro to OpenAI ChatComplete](https://colab.research.google.com/drive/1HrZF36ULNUghcFOnugmgyN959OW3gMcU#scrollTo=k1HpJqa7joc5) **15 min**\n",
        "\n",
        "4. [Intro to LangChain](https://colab.research.google.com/drive/1NHjZiTpPflSKcz9unhs2bnZj-EAquDjI#scrollTo=q3f443C95w_v) **10 min**\n",
        "\n",
        "5. [Intro to OpenAI tools and Langchain](https://colab.research.google.com/drive/1UHpzZd_6pexhQVwx7Q6kebbePFMC43qi) **15 min**\n",
        "\n",
        "6. [Maintaining conversation state](https://colab.research.google.com/drive/1c1n_IcLacuUQmFTw2amb3babYUHb8t3b) **15 min**\n",
        "\n",
        "7. [Fake news classifier](https://colab.research.google.com/drive/1xV_d2KPwpLCXgYxpu9TOVnaWCnRE0tcj?usp=sharing)\n",
        "\n",
        "-----------\n",
        "8. [How to keep the LLMs updated with latest news?](https://colab.research.google.com/drive/1b8xQ-0y0YxCc4ceba7Fl4EEfeWWm4dP6?usp=sharing) **15 min**\n",
        "\n",
        "9. [Tool usage - Calculator, Wikipedia](https://colab.research.google.com/drive/1wGIUiALAAlO9_hRWxeKz3q-Zqsjo857d?usp=sharing) **20 min**\n",
        "\n",
        "10. [Create a smart scheduler](https://colab.research.google.com/drive/1lGYJwpsO-31IeDZXEbYbNDqeK7EuiZ9d) **25 min**\n",
        "\n",
        "11. [OpenAI functions](https://colab.research.google.com/drive/1zUiaigqS554Os6YhQas4_PqfZpfaK597) **10 min**\n",
        "\n",
        "12. [Using other LLMs](https://colab.research.google.com/drive/1PzHac8XcHW-a2mP_F5DxufGvp4QlCTZ8#scrollTo=vOYFrTJI-ZOM) **10 min**\n",
        "\n",
        "\n",
        "------------\n",
        "\n",
        "13. Instruction Fine-tuning, Scaling Laws, Opensource LLMs **20 min**\n",
        "\n",
        "14. How do LLMs work? [Reference:Transformer Architecture](https://colab.research.google.com/github/tensorflow/text/blob/master/docs/tutorials/transformer.ipynb) **20 min**\n",
        "\n",
        "**Homework**\n",
        "Run Langchain notebooks\n",
        "\n"
      ],
      "metadata": {
        "id": "P3ieAU0RbA4h"
      }
    },
    {
      "cell_type": "markdown",
      "source": [
        "### **Module 7**: Real world GenAI Applications - Ideas, Opportunities and Challenges\n",
        "*Saturday July 29 and Sunday July 30* (3.5 hours)\n",
        "\n",
        "**LLMs continued**\n",
        "1. Intro to Vector Databases [Theory] **20 min**\n",
        "\n",
        "2. [Simple state maintainence with Milvus](https://colab.research.google.com/drive/1OrfTeJz5ma7dfIihuZQtskqz4Sk2Jo4b) **20 min**\n",
        "\n",
        "3. [Milvus Example 2](https://colab.research.google.com/drive/1zMoaFOmQWyBKE7crnYIHMzr8uYTHLb5q#scrollTo=ikIWCHozfTSf) **15 min**\n",
        "\n",
        "4. [Vector DBs and PDF Question Answering](https://colab.research.google.com/drive/1OMYKRxbXARCn7oKlYLIZQK6GouUWAxXP?usp=sharing) **20 min**\n",
        "\n",
        "--------------\n",
        "5. Understanding LLMs in Detail [Theory] **30 min**\n",
        "\n",
        "6. [Intro to Whisper and using it for ASR with Gradio](https://colab.research.google.com/drive/1jxheMoYc1TZ4K3GSBiK5YKjnsOpnh2Qi) **25 min**\n",
        "\n",
        "7. [Summarize Youtube audio track](https://colab.research.google.com/drive/17qFwmGKsRxhav7gB2JZy9NolK_9furAT#scrollTo=HxnStJ_PrDib) **15 min**\n",
        "<br>**Audio**\n",
        "<br>\n",
        "8. Reference: [Generate natural sounding audio](https://colab.research.google.com/drive/1eJfA2XUa-mXwdMy7DoYKVYHI1iTd9Vkt?usp=sharing) using [bark](https://github.com/suno-ai/bark)\n",
        "\n",
        "9. [Summarize a large book](https://colab.research.google.com/drive/1c69CkJzFiT9TPGblqIO9ugndzd3nH-Ar?usp=sharing)\n",
        "\n",
        "--------------\n",
        "**Advanced LLM**\n",
        "1. Understanding Model Fine-Tuning and PEFT **30 mins**\n",
        "2. Finetune OPT [2.7B LLM with LoRA](https://colab.research.google.com/drive/1iZ3iy9R6WSsRK8Owf5bEle-xc7Oo7aWe) [1] **30 mins**\n",
        "\n",
        "\n",
        "**Other NLP tools**\n",
        "1. [Extracting text from images with OCR](https://colab.research.google.com/drive/1BUMGjQjj9-KgXqlwRB9a1objt37iCAd8?usp=sharing) **10 min**\n",
        "\n",
        "\n",
        "\n"
      ],
      "metadata": {
        "id": "tMt3TcLod_BA"
      }
    },
    {
      "cell_type": "markdown",
      "source": [
        "### Week 3 project: Quora Insincere Questions Classification\n",
        "I hope you're all doing well and are ready for an exciting challenge this week. We're going to delve deeper into the world of Large Language Models, specifically OpenAI's GPT-3, and apply it to a real-world problem from Kaggle: the Quora Insincere Questions Classification.\n",
        "\n",
        "**Project Overview**\n",
        "Quora is a platform that empowers people to learn from each other. It's a place to gain and share knowledge, about anything. It's a platform to ask questions and connect with people who contribute unique insights and quality answers. Unfortunately, not all questions asked are sincere. Some are posted with malicious intent, and these insincere questions need to be identified.\n",
        "\n",
        "Your task for this project is to build a model that identifies and flags insincere questions. To achieve this, we will be using GPT-3, one of the most advanced language models currently available.\n",
        "\n",
        "**Dataset**\n",
        "\n",
        "The dataset for this project is provided by Quora and is available on [Kaggle](https://www.kaggle.com/competitions/quora-insincere-questions-classification/data). It consists of a large number of questions, some of which are labeled as insincere.\n",
        "\n",
        "**Skills You Will Learn and Practice**\n",
        "\n",
        "This project will give you hands-on experience with several important concepts in Natural Language Processing and AI:\n",
        "\n",
        "1. **Working with Large Language Models:** You'll get hands-on experience with GPT-3, learning how to interact with the model via the OpenAI API.\n",
        "2. **Text Classification:** You'll learn how to apply AI tools to classify text into different categories, a common task in NLP.\n",
        "3. **Interpreting AI Outputs:** You'll gain experience in interpreting and making use of the outputs from an AI model.\n",
        "Submission\n",
        "\n",
        "Once you've built your model and used it to classify the Quora questions, you will submit a report detailing your approach and the results. We'll be looking for creative and effective uses of GPT-3, as well as clear presentation of your methods and findings.\n",
        "\n",
        "This project will provide a challenging but rewarding experience as you apply state-of-the-art AI to a real-world problem. As always, please don't hesitate to reach out if you have any questions or need any help."
      ],
      "metadata": {
        "id": "9IAD7-IxyECM"
      }
    },
    {
      "cell_type": "markdown",
      "source": [
        "## Week-4: Advanced\n",
        "\n"
      ],
      "metadata": {
        "id": "mWh2NXxBSKhu"
      }
    },
    {
      "cell_type": "markdown",
      "source": [
        "### **Module 8**: Enterprise - Applying AI in the Enterprise setting\n",
        "*Friday August 4 and Sat Aug 5 (3 hours)*\n",
        "\n",
        "**Visual Gen AI** (1.5 hours)\n",
        "\n",
        "1. Understanding Stable Diffusion and the theory that makes Midjourney, Playground and other tools work [Theory] **30 min**\n",
        "\n",
        "2. [Generative Models: GANs](https://colab.research.google.com/drive/1UwObA4goc-lGp-ZR8dRSHnGWgLlUdlfe?usp=sharing) **20 min**\n",
        "\n",
        "3. [Stable Diffusion -- 1](https://colab.research.google.com/github/huggingface/notebooks/blob/main/diffusers/stable_diffusion.ipynb) **20 min**\n",
        "\n",
        "4. Reference: [Deep dive into Stable Diffusion](https://colab.research.google.com/drive/1INpirarlgUEyDCfoDVQRYRYnBIKV0YTL) **10 min**\n",
        "\n",
        "**Future of AI**\n",
        "1. MultiModality - Avatar XPrize, Mitra Robot for seniorcare, Movement Analytics, Gesture recognition paper - **20 min** <br>\n",
        "Reference: [Introduction to Mediapipe and body pose tracking](https://colab.research.google.com/drive/1bY24opKaOA7qotugxs9NyLSyatBDAZ44?usp=sharing) **10 min**\n",
        "\n",
        "2. Mitra AI - Language meets vision [Working with video] and information density [Demo and Theory] - **20 min**\n",
        "\n",
        "3. Cloud servers, GPUs and AI Hardware [1] **20 min**\n",
        "\n",
        "4. Introduction to AWS Sagemaker [2] **20 min**\n",
        "\n",
        "\n"
      ],
      "metadata": {
        "id": "zo1F9iMDbEhF"
      }
    },
    {
      "cell_type": "markdown",
      "source": [
        "### **Module 9a**: AI research - Research papers, open source software and data\n",
        "*Saturday August 5* [1 hour]\n",
        "\n",
        "1. Reviewing the latest state of the art in Deep learning models\n",
        "2. Introduction to Arxiv\n",
        "3. Reading research papers"
      ],
      "metadata": {
        "id": "k_X6NU12eOYF"
      }
    },
    {
      "cell_type": "markdown",
      "source": [
        "### **Module 9b**: Startups - Building AI products, the startup journey\n",
        "*Saturday August 5* [1 hour]\n",
        "\n",
        "1. [Dataset creation: Web Scraping](https://colab.research.google.com/drive/1Se7gp9q2_DROzGwDOkrOMNc7-Kn8JRk3?usp=sharing) (use it with caution) **15 min**\n",
        "\n",
        "2. Creating a GEN-AI Startup - Setting Goals, Building a team, Co-Founders, MVP product, Fundraising, Sales, Marketing. **45 min**"
      ],
      "metadata": {
        "id": "gou9cM1BeSjU"
      }
    },
    {
      "cell_type": "markdown",
      "source": [
        "### Course Recap and Capstone project intro\n",
        "*Sunday August 6* (2 hours)\n",
        "1. Reviewing all the key components **1 hour**\n",
        "2. Walking through the key project ideas **1 hour**"
      ],
      "metadata": {
        "id": "NIYL3eAgeXLG"
      }
    },
    {
      "cell_type": "markdown",
      "source": [
        "## Week-5: Project"
      ],
      "metadata": {
        "id": "Y9dotiqOSX7A"
      }
    },
    {
      "cell_type": "markdown",
      "source": [
        "### Optional topics\n",
        "1. [K-means Clustering](https://colab.research.google.com/drive/1iXPj9bjhBVR6IwOJr74O77sqSZUFLmyD?usp=sharing)\n",
        "\n",
        "2. [PCA and Dimensionality reduction](https://www.kaggle.com/code/ohseokkim/the-curse-of-dimensionality-dimension-reduction/notebook) -- External Reference.\n",
        "\n",
        "3. [Audio - Spoken keyword detection with CNN and spectrogram](https://colab.research.google.com/drive/1RUMJIlysJiceEX62cB5BEqhDqgMv2yh-)"
      ],
      "metadata": {
        "id": "nlpdVEJom8p-"
      }
    },
    {
      "cell_type": "markdown",
      "source": [
        "### **Capstone Project**:\n",
        "You will form groups of 4-5 people and build an open source project that you can host it on Github or Gitlab. You can pick one of the below.\n",
        "\n",
        "**Consumer**\n",
        "\n",
        "1. **Globetrotter's Guide** - An end-to-end travel planner utilizing the Amadeus API for flight, hotel, and point-of-interest data, making travel planning effortless and efficient.\n",
        "More information about Amadeus API: https://developers.amadeus.com/self-service\n",
        "\n",
        "2. **LifeMitra** - A personal life assistant capable of organizing your calendar, setting reminders, making reservations, and providing suggestions for everyday tasks, all using natural language processing and reinforcement learning.\n",
        "\n",
        "3. **ShopSmart** - A smart shopping assistant that uses image recognition and recommendation algorithms to assist users in making well-informed purchase decisions, including price comparisons, product recommendations, and more.\n",
        "\n",
        "**Enterprise**\n",
        "\n",
        "4. **SecureSphere** - An enterprise access control management system using facial recognition and anomaly detection to enhance security protocols in businesses, making access control seamless and secure.\n",
        "\n",
        "5. **HelpDesk Pro** - An AI-powered help-desk and customer ticket management system. Utilizing natural language processing and machine learning for ticket classification, sentiment analysis, and automatic ticket routing, aiming to reduce response time and improve customer satisfaction.\n",
        "\n",
        "6. **CareMitra** - A patient care management system built on top of Mitra AI APIs, aiming to revolutionize the healthcare sector. This system would automate patient data management, provide personalized care suggestions, and assist healthcare professionals in decision-making.\n"
      ],
      "metadata": {
        "id": "0t6S2VMiaoQw"
      }
    }
  ]
}